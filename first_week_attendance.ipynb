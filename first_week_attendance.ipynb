{
 "cells": [
  {
   "cell_type": "markdown",
   "metadata": {},
   "source": [
    "Create a Jupyter Notebook.\n",
    "\n",
    "Load the arrival time data into Pandas from data.csv.\n",
    "\n",
    "Decide how to deal with any missing values in the data.\n",
    "\n",
    "3(b) Visualize the data\n",
    "Create some visualizations of the attendance data. Note that it can be grouped by day or aggregated together.\n",
    "\n",
    "At least one of your visualizations must be a histogram."
   ]
  },
  {
   "cell_type": "code",
   "execution_count": 1,
   "metadata": {},
   "outputs": [],
   "source": [
    "import pandas as pd"
   ]
  },
  {
   "cell_type": "code",
   "execution_count": 2,
   "metadata": {},
   "outputs": [],
   "source": [
    "import matplotlib.pyplot as plt\n",
    "import numpy as np"
   ]
  },
  {
   "cell_type": "code",
   "execution_count": 3,
   "metadata": {},
   "outputs": [],
   "source": [
    "df = pd.read_csv(\"data.csv\", header=None)\n",
    "df.columns = [\"Monday1\", \"Tuesday1\", \"Wednesday1\", \"Thursday1\", \"Friday1\", \"Monday2\"]"
   ]
  },
  {
   "cell_type": "code",
   "execution_count": 4,
   "metadata": {},
   "outputs": [
    {
     "data": {
      "text/html": [
       "<div>\n",
       "<style scoped>\n",
       "    .dataframe tbody tr th:only-of-type {\n",
       "        vertical-align: middle;\n",
       "    }\n",
       "\n",
       "    .dataframe tbody tr th {\n",
       "        vertical-align: top;\n",
       "    }\n",
       "\n",
       "    .dataframe thead th {\n",
       "        text-align: right;\n",
       "    }\n",
       "</style>\n",
       "<table border=\"1\" class=\"dataframe\">\n",
       "  <thead>\n",
       "    <tr style=\"text-align: right;\">\n",
       "      <th></th>\n",
       "      <th>Monday1</th>\n",
       "      <th>Tuesday1</th>\n",
       "      <th>Wednesday1</th>\n",
       "      <th>Thursday1</th>\n",
       "      <th>Friday1</th>\n",
       "      <th>Monday2</th>\n",
       "    </tr>\n",
       "  </thead>\n",
       "  <tbody>\n",
       "    <tr>\n",
       "      <th>0</th>\n",
       "      <td>8:56 AM</td>\n",
       "      <td>9:00 AM</td>\n",
       "      <td>7:45 AM</td>\n",
       "      <td>7:45 AM</td>\n",
       "      <td>8:05 AM</td>\n",
       "      <td>7:45 AM</td>\n",
       "    </tr>\n",
       "    <tr>\n",
       "      <th>1</th>\n",
       "      <td>8:40 AM</td>\n",
       "      <td>8:40 AM</td>\n",
       "      <td>8:30 AM</td>\n",
       "      <td>8:30 AM</td>\n",
       "      <td>8:45 AM</td>\n",
       "      <td>8:20 AM</td>\n",
       "    </tr>\n",
       "    <tr>\n",
       "      <th>2</th>\n",
       "      <td>8:45 AM</td>\n",
       "      <td>8:20 AM</td>\n",
       "      <td>8:05 AM</td>\n",
       "      <td>8:00 AM</td>\n",
       "      <td>8:05 AM</td>\n",
       "      <td>8:00 AM</td>\n",
       "    </tr>\n",
       "    <tr>\n",
       "      <th>3</th>\n",
       "      <td>8:40 AM</td>\n",
       "      <td>8:40 AM</td>\n",
       "      <td>8:40 AM</td>\n",
       "      <td>8:25 AM</td>\n",
       "      <td>8:40 AM</td>\n",
       "      <td>8:40 AM</td>\n",
       "    </tr>\n",
       "    <tr>\n",
       "      <th>4</th>\n",
       "      <td>8:55 AM</td>\n",
       "      <td>8:50 AM</td>\n",
       "      <td>8:55 AM</td>\n",
       "      <td>8:10 AM</td>\n",
       "      <td>8:15 AM</td>\n",
       "      <td>8:05 AM</td>\n",
       "    </tr>\n",
       "    <tr>\n",
       "      <th>5</th>\n",
       "      <td>8:45 AM</td>\n",
       "      <td>8:45 AM</td>\n",
       "      <td>8:45 AM</td>\n",
       "      <td>8:40 AM</td>\n",
       "      <td>8:30 AM</td>\n",
       "      <td>8:40 AM</td>\n",
       "    </tr>\n",
       "    <tr>\n",
       "      <th>6</th>\n",
       "      <td>8:45 AM</td>\n",
       "      <td>8:54 AM</td>\n",
       "      <td>8:38 AM</td>\n",
       "      <td>8:40 AM</td>\n",
       "      <td>8:32 AM</td>\n",
       "      <td>8:41 AM</td>\n",
       "    </tr>\n",
       "    <tr>\n",
       "      <th>7</th>\n",
       "      <td>absent</td>\n",
       "      <td>11:00 AM</td>\n",
       "      <td>8:35 AM</td>\n",
       "      <td>8:15 AM</td>\n",
       "      <td>8:10 AM</td>\n",
       "      <td>8:10 AM</td>\n",
       "    </tr>\n",
       "    <tr>\n",
       "      <th>8</th>\n",
       "      <td>8:39 AM</td>\n",
       "      <td>8:13 AM</td>\n",
       "      <td>8:15 AM</td>\n",
       "      <td>8:12 AM</td>\n",
       "      <td>8:10 AM</td>\n",
       "      <td>8:00 AM</td>\n",
       "    </tr>\n",
       "    <tr>\n",
       "      <th>9</th>\n",
       "      <td>9:00 AM</td>\n",
       "      <td>8:50 AM</td>\n",
       "      <td>8:50 AM</td>\n",
       "      <td>8:50 AM</td>\n",
       "      <td>8:40 AM</td>\n",
       "      <td>8:45 AM</td>\n",
       "    </tr>\n",
       "    <tr>\n",
       "      <th>10</th>\n",
       "      <td>8:40 AM</td>\n",
       "      <td>8:50 AM</td>\n",
       "      <td>8:40 AM</td>\n",
       "      <td>8:34 AM</td>\n",
       "      <td>8:20 AM</td>\n",
       "      <td>8:30 AM</td>\n",
       "    </tr>\n",
       "    <tr>\n",
       "      <th>11</th>\n",
       "      <td>8:15 AM</td>\n",
       "      <td>8:30 AM</td>\n",
       "      <td>8:13 AM</td>\n",
       "      <td>8:30 AM</td>\n",
       "      <td>7:45 AM</td>\n",
       "      <td>8:40 AM</td>\n",
       "    </tr>\n",
       "    <tr>\n",
       "      <th>12</th>\n",
       "      <td>8:45 AM</td>\n",
       "      <td>8:55 AM</td>\n",
       "      <td>8:45 AM</td>\n",
       "      <td>8:45 AM</td>\n",
       "      <td>8:00 AM</td>\n",
       "      <td>8:45 AM</td>\n",
       "    </tr>\n",
       "    <tr>\n",
       "      <th>13</th>\n",
       "      <td>8:45 AM</td>\n",
       "      <td>8:45 AM</td>\n",
       "      <td>8:05 AM</td>\n",
       "      <td>8:00 AM</td>\n",
       "      <td>8:00 AM</td>\n",
       "      <td>8:00 AM</td>\n",
       "    </tr>\n",
       "    <tr>\n",
       "      <th>14</th>\n",
       "      <td>8:45 AM</td>\n",
       "      <td>8:45 AM</td>\n",
       "      <td>9:00 AM</td>\n",
       "      <td>9:00 AM</td>\n",
       "      <td>8:50 AM</td>\n",
       "      <td>9:00 AM</td>\n",
       "    </tr>\n",
       "    <tr>\n",
       "      <th>15</th>\n",
       "      <td>8:15 AM</td>\n",
       "      <td>8:40 AM</td>\n",
       "      <td>8:25 AM</td>\n",
       "      <td>8:30 AM</td>\n",
       "      <td>7:30 AM</td>\n",
       "      <td>8:25 AM</td>\n",
       "    </tr>\n",
       "    <tr>\n",
       "      <th>16</th>\n",
       "      <td>8:45 AM</td>\n",
       "      <td>8:40 AM</td>\n",
       "      <td>8:45 AM</td>\n",
       "      <td>8:55 AM</td>\n",
       "      <td>8:45 AM</td>\n",
       "      <td>8:45 AM</td>\n",
       "    </tr>\n",
       "    <tr>\n",
       "      <th>17</th>\n",
       "      <td>8:45 AM</td>\n",
       "      <td>9:00 AM</td>\n",
       "      <td>9:00 AM</td>\n",
       "      <td>9:00 AM</td>\n",
       "      <td>9:00 AM</td>\n",
       "      <td>9:00 AM</td>\n",
       "    </tr>\n",
       "    <tr>\n",
       "      <th>18</th>\n",
       "      <td>8:50 AM</td>\n",
       "      <td>8:50 AM</td>\n",
       "      <td>8:57 AM</td>\n",
       "      <td>8:42 AM</td>\n",
       "      <td>8:35 AM</td>\n",
       "      <td>8:30 AM</td>\n",
       "    </tr>\n",
       "    <tr>\n",
       "      <th>19</th>\n",
       "      <td>8:15 AM</td>\n",
       "      <td>9:00 AM</td>\n",
       "      <td>8:35 AM</td>\n",
       "      <td>9:00 AM</td>\n",
       "      <td>8:58 AM</td>\n",
       "      <td>8:20 AM</td>\n",
       "    </tr>\n",
       "    <tr>\n",
       "      <th>20</th>\n",
       "      <td>8:45 AM</td>\n",
       "      <td>8:35 AM</td>\n",
       "      <td>8:27 AM</td>\n",
       "      <td>8:46 AM</td>\n",
       "      <td>8:31 AM</td>\n",
       "      <td>8:37 AM</td>\n",
       "    </tr>\n",
       "    <tr>\n",
       "      <th>21</th>\n",
       "      <td>8:45 AM</td>\n",
       "      <td>8:45 AM</td>\n",
       "      <td>9:00 AM</td>\n",
       "      <td>8:57 AM</td>\n",
       "      <td>8:57 AM</td>\n",
       "      <td>8:50 AM</td>\n",
       "    </tr>\n",
       "    <tr>\n",
       "      <th>22</th>\n",
       "      <td>8:45 AM</td>\n",
       "      <td>8:50 AM</td>\n",
       "      <td>8:30 AM</td>\n",
       "      <td>8:45 AM</td>\n",
       "      <td>8:50 AM</td>\n",
       "      <td>8:10 AM</td>\n",
       "    </tr>\n",
       "  </tbody>\n",
       "</table>\n",
       "</div>"
      ],
      "text/plain": [
       "    Monday1  Tuesday1 Wednesday1 Thursday1  Friday1  Monday2\n",
       "0   8:56 AM   9:00 AM    7:45 AM   7:45 AM  8:05 AM  7:45 AM\n",
       "1   8:40 AM   8:40 AM    8:30 AM   8:30 AM  8:45 AM  8:20 AM\n",
       "2   8:45 AM   8:20 AM    8:05 AM   8:00 AM  8:05 AM  8:00 AM\n",
       "3   8:40 AM   8:40 AM    8:40 AM   8:25 AM  8:40 AM  8:40 AM\n",
       "4   8:55 AM   8:50 AM    8:55 AM   8:10 AM  8:15 AM  8:05 AM\n",
       "5   8:45 AM   8:45 AM    8:45 AM   8:40 AM  8:30 AM  8:40 AM\n",
       "6   8:45 AM   8:54 AM    8:38 AM   8:40 AM  8:32 AM  8:41 AM\n",
       "7    absent  11:00 AM    8:35 AM   8:15 AM  8:10 AM  8:10 AM\n",
       "8   8:39 AM   8:13 AM    8:15 AM   8:12 AM  8:10 AM  8:00 AM\n",
       "9   9:00 AM   8:50 AM    8:50 AM   8:50 AM  8:40 AM  8:45 AM\n",
       "10  8:40 AM   8:50 AM    8:40 AM   8:34 AM  8:20 AM  8:30 AM\n",
       "11  8:15 AM   8:30 AM    8:13 AM   8:30 AM  7:45 AM  8:40 AM\n",
       "12  8:45 AM   8:55 AM    8:45 AM   8:45 AM  8:00 AM  8:45 AM\n",
       "13  8:45 AM   8:45 AM    8:05 AM   8:00 AM  8:00 AM  8:00 AM\n",
       "14  8:45 AM   8:45 AM    9:00 AM   9:00 AM  8:50 AM  9:00 AM\n",
       "15  8:15 AM   8:40 AM    8:25 AM   8:30 AM  7:30 AM  8:25 AM\n",
       "16  8:45 AM   8:40 AM    8:45 AM   8:55 AM  8:45 AM  8:45 AM\n",
       "17  8:45 AM   9:00 AM    9:00 AM   9:00 AM  9:00 AM  9:00 AM\n",
       "18  8:50 AM   8:50 AM    8:57 AM   8:42 AM  8:35 AM  8:30 AM\n",
       "19  8:15 AM   9:00 AM    8:35 AM   9:00 AM  8:58 AM  8:20 AM\n",
       "20  8:45 AM   8:35 AM    8:27 AM   8:46 AM  8:31 AM  8:37 AM\n",
       "21  8:45 AM   8:45 AM    9:00 AM   8:57 AM  8:57 AM  8:50 AM\n",
       "22  8:45 AM   8:50 AM    8:30 AM   8:45 AM  8:50 AM  8:10 AM"
      ]
     },
     "execution_count": 4,
     "metadata": {},
     "output_type": "execute_result"
    }
   ],
   "source": [
    "df"
   ]
  },
  {
   "cell_type": "code",
   "execution_count": 5,
   "metadata": {},
   "outputs": [
    {
     "data": {
      "text/plain": [
       "str"
      ]
     },
     "execution_count": 5,
     "metadata": {},
     "output_type": "execute_result"
    }
   ],
   "source": [
    "type(df[\"Monday1\"][1])"
   ]
  },
  {
   "cell_type": "markdown",
   "metadata": {},
   "source": [
    "For the first visualization, I'll make a scatter graph of the total attendees per day, giving us a sense of how it's trending."
   ]
  },
  {
   "cell_type": "code",
   "execution_count": 7,
   "metadata": {},
   "outputs": [],
   "source": [
    "# m1 = len(df[\"Monday1\"])\n",
    "# m1"
   ]
  },
  {
   "cell_type": "code",
   "execution_count": 8,
   "metadata": {},
   "outputs": [],
   "source": [
    "# t1 = len(df[\"Tuesday1\"]) \n",
    "# w1 = len(df[\"Wednesday1\"])\n",
    "# th1 = len(df[\"Thursday1\"])\n",
    "# f1 = len(df[\"Friday1\"])\n",
    "# m2 = len(df[\"Monday2\"])"
   ]
  },
  {
   "cell_type": "code",
   "execution_count": 9,
   "metadata": {},
   "outputs": [],
   "source": [
    "# attend_days = [m1, t1, w1, th1, f1, m2]\n",
    "# attend_days"
   ]
  },
  {
   "cell_type": "markdown",
   "metadata": {},
   "source": [
    "We want the total attendees per day, so maybe we can look at the entries containing \"AM.\""
   ]
  },
  {
   "cell_type": "code",
   "execution_count": 6,
   "metadata": {},
   "outputs": [],
   "source": [
    "# df[\"Monday1\"].str.count(\"AM\")"
   ]
  },
  {
   "cell_type": "code",
   "execution_count": 7,
   "metadata": {},
   "outputs": [
    {
     "data": {
      "text/plain": [
       "22"
      ]
     },
     "execution_count": 7,
     "metadata": {},
     "output_type": "execute_result"
    }
   ],
   "source": [
    "#No. What if I sum it?\n",
    "sum(df[\"Monday1\"].str.count(\"AM\"))\n"
   ]
  },
  {
   "cell_type": "code",
   "execution_count": 8,
   "metadata": {},
   "outputs": [],
   "source": [
    "#That works. I'll reassign\n",
    "m1 = sum(df[\"Monday1\"].str.count(\"AM\"))\n",
    "t1 = sum(df[\"Tuesday1\"].str.count(\"AM\"))\n",
    "w1 = sum(df[\"Wednesday1\"].str.count(\"AM\"))\n",
    "th1 = sum(df[\"Thursday1\"].str.count(\"AM\"))\n",
    "f1 = sum(df[\"Friday1\"].str.count(\"AM\"))\n",
    "m2 = sum(df[\"Monday2\"].str.count(\"AM\"))"
   ]
  },
  {
   "cell_type": "code",
   "execution_count": 9,
   "metadata": {},
   "outputs": [
    {
     "data": {
      "text/plain": [
       "[22, 23, 23, 23, 23, 23]"
      ]
     },
     "execution_count": 9,
     "metadata": {},
     "output_type": "execute_result"
    }
   ],
   "source": [
    "attend_days = [m1, t1, w1, th1, f1, m2]\n",
    "attend_days"
   ]
  },
  {
   "cell_type": "markdown",
   "metadata": {},
   "source": [
    "Now I'll try to make the scatter plot."
   ]
  },
  {
   "cell_type": "code",
   "execution_count": 10,
   "metadata": {},
   "outputs": [],
   "source": [
    "import matplotlib.pyplot as plt\n",
    "import numpy as np"
   ]
  },
  {
   "cell_type": "code",
   "execution_count": 11,
   "metadata": {},
   "outputs": [
    {
     "data": {
      "text/plain": [
       "['Monday1', 'Tuesday1', 'Wednesday1', 'Thursday1', 'Friday1', 'Monday2']"
      ]
     },
     "execution_count": 11,
     "metadata": {},
     "output_type": "execute_result"
    }
   ],
   "source": [
    "days = list(df.columns)\n",
    "days"
   ]
  },
  {
   "cell_type": "code",
   "execution_count": 12,
   "metadata": {},
   "outputs": [
    {
     "data": {
      "image/png": "[encoded data removed]",
      "text/plain": [
       "<Figure size 432x288 with 1 Axes>"
      ]
     },
     "metadata": {
      "needs_background": "light"
     },
     "output_type": "display_data"
    }
   ],
   "source": [
    "plt.plot(days, attend_days, \"go\")\n",
    "plt.title(\"Seattle Inaugural Data Science Cohort Attendees Per Day\")\n",
    "plt.xlabel(\"Day. Notice each cycle is five days long.\")\n",
    "plt.ylabel(\"Total students attending\")\n",
    "plt.show()"
   ]
  },
  {
   "cell_type": "markdown",
   "metadata": {},
   "source": [
    "As we see, this shows a strong initial growth with a steady value over the time window."
   ]
  },
  {
   "cell_type": "markdown",
   "metadata": {},
   "source": [
    "Now we'll make some histograms. Currently all the values are strings, while we want intervals. Moreover, one of the values from M1 does not represent a number, and it would be inappripriate  to coerce it as such. We could consider each day of the week as a series, changing the value in each case to something more quantied. If we turn it into into datetime, we have to deal with days and pretend we know the seconds. What are some other ways to think about arrival time? What about distance from midnight? What would that look like? How many minutes past midnight did everyone arrive at class?"
   ]
  },
  {
   "cell_type": "code",
   "execution_count": 17,
   "metadata": {},
   "outputs": [
    {
     "data": {
      "text/plain": [
       "'8:40'"
      ]
     },
     "execution_count": 17,
     "metadata": {},
     "output_type": "execute_result"
    }
   ],
   "source": [
    "n1 = df[\"Monday1\"][1].split()[0]\n",
    "n1"
   ]
  },
  {
   "cell_type": "code",
   "execution_count": 19,
   "metadata": {},
   "outputs": [
    {
     "data": {
      "text/plain": [
       "['8', '40']"
      ]
     },
     "execution_count": 19,
     "metadata": {},
     "output_type": "execute_result"
    }
   ],
   "source": [
    "t = n1.split(\":\")\n",
    "t"
   ]
  },
  {
   "cell_type": "code",
   "execution_count": 27,
   "metadata": {},
   "outputs": [],
   "source": [
    "t0 = float(t[0])\n",
    "t1 = float(t[1])"
   ]
  },
  {
   "cell_type": "code",
   "execution_count": 28,
   "metadata": {},
   "outputs": [
    {
     "data": {
      "text/plain": [
       "8.0"
      ]
     },
     "execution_count": 28,
     "metadata": {},
     "output_type": "execute_result"
    }
   ],
   "source": [
    "t0"
   ]
  },
  {
   "cell_type": "code",
   "execution_count": 29,
   "metadata": {},
   "outputs": [
    {
     "data": {
      "text/plain": [
       "40.0"
      ]
     },
     "execution_count": 29,
     "metadata": {},
     "output_type": "execute_result"
    }
   ],
   "source": [
    "t1"
   ]
  },
  {
   "cell_type": "code",
   "execution_count": 30,
   "metadata": {},
   "outputs": [
    {
     "data": {
      "text/plain": [
       "480.0"
      ]
     },
     "execution_count": 30,
     "metadata": {},
     "output_type": "execute_result"
    }
   ],
   "source": [
    "t0m = t0*60\n",
    "t0m"
   ]
  },
  {
   "cell_type": "code",
   "execution_count": 31,
   "metadata": {},
   "outputs": [
    {
     "data": {
      "text/plain": [
       "520.0"
      ]
     },
     "execution_count": 31,
     "metadata": {},
     "output_type": "execute_result"
    }
   ],
   "source": [
    "totmin = t0m + t1\n",
    "totmin"
   ]
  },
  {
   "cell_type": "code",
   "execution_count": 37,
   "metadata": {},
   "outputs": [],
   "source": [
    "def from_midnight(q: str)->float:\n",
    "    s = q.split()[0]\n",
    "    s1 = s.split(\":\")\n",
    "    t1 = float(s1[0])*60\n",
    "    t2 = float(s1[1])\n",
    "    tot = t1 + t2\n",
    "    return tot"
   ]
  },
  {
   "cell_type": "code",
   "execution_count": 38,
   "metadata": {},
   "outputs": [
    {
     "data": {
      "text/plain": [
       "520.0"
      ]
     },
     "execution_count": 38,
     "metadata": {},
     "output_type": "execute_result"
    }
   ],
   "source": [
    "from_midnight(df[\"Monday1\"][1])"
   ]
  },
  {
   "cell_type": "markdown",
   "metadata": {},
   "source": [
    "Now we have a function to turn each value into its distance from midnight. For a histogram, we could use bin "
   ]
  }
 ],
 "metadata": {
  "kernelspec": {
   "display_name": "Python [conda env:root]",
   "language": "python",
   "name": "conda-root-py"
  },
  "language_info": {
   "codemirror_mode": {
    "name": "ipython",
    "version": 3
   },
   "file_extension": ".py",
   "mimetype": "text/x-python",
   "name": "python",
   "nbconvert_exporter": "python",
   "pygments_lexer": "ipython3",
   "version": "3.7.1"
  }
 },
 "nbformat": 4,
 "nbformat_minor": 2
}
